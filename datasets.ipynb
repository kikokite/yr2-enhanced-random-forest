{
 "cells": [
  {
   "cell_type": "markdown",
   "metadata": {},
   "source": [
    "**DATASETS FOR AC I**"
   ]
  },
  {
   "cell_type": "code",
   "execution_count": 3,
   "metadata": {},
   "outputs": [
    {
     "data": {
      "text/html": [
       "<div>\n",
       "<style scoped>\n",
       "    .dataframe tbody tr th:only-of-type {\n",
       "        vertical-align: middle;\n",
       "    }\n",
       "\n",
       "    .dataframe tbody tr th {\n",
       "        vertical-align: top;\n",
       "    }\n",
       "\n",
       "    .dataframe thead th {\n",
       "        text-align: right;\n",
       "    }\n",
       "</style>\n",
       "<table border=\"1\" class=\"dataframe\">\n",
       "  <thead>\n",
       "    <tr style=\"text-align: right;\">\n",
       "      <th></th>\n",
       "      <th>did</th>\n",
       "      <th>name</th>\n",
       "      <th>version</th>\n",
       "      <th>uploader</th>\n",
       "      <th>status</th>\n",
       "      <th>format</th>\n",
       "      <th>MajorityClassSize</th>\n",
       "      <th>MaxNominalAttDistinctValues</th>\n",
       "      <th>MinorityClassSize</th>\n",
       "      <th>NumberOfClasses</th>\n",
       "      <th>NumberOfFeatures</th>\n",
       "      <th>NumberOfInstances</th>\n",
       "      <th>NumberOfInstancesWithMissingValues</th>\n",
       "      <th>NumberOfMissingValues</th>\n",
       "      <th>NumberOfNumericFeatures</th>\n",
       "      <th>NumberOfSymbolicFeatures</th>\n",
       "    </tr>\n",
       "  </thead>\n",
       "  <tbody>\n",
       "    <tr>\n",
       "      <th>2</th>\n",
       "      <td>2</td>\n",
       "      <td>anneal</td>\n",
       "      <td>1</td>\n",
       "      <td>1</td>\n",
       "      <td>active</td>\n",
       "      <td>ARFF</td>\n",
       "      <td>684.0</td>\n",
       "      <td>7.0</td>\n",
       "      <td>8.0</td>\n",
       "      <td>5.0</td>\n",
       "      <td>39.0</td>\n",
       "      <td>898.0</td>\n",
       "      <td>898.0</td>\n",
       "      <td>22175.0</td>\n",
       "      <td>6.0</td>\n",
       "      <td>33.0</td>\n",
       "    </tr>\n",
       "    <tr>\n",
       "      <th>3</th>\n",
       "      <td>3</td>\n",
       "      <td>kr-vs-kp</td>\n",
       "      <td>1</td>\n",
       "      <td>1</td>\n",
       "      <td>active</td>\n",
       "      <td>ARFF</td>\n",
       "      <td>1669.0</td>\n",
       "      <td>3.0</td>\n",
       "      <td>1527.0</td>\n",
       "      <td>2.0</td>\n",
       "      <td>37.0</td>\n",
       "      <td>3196.0</td>\n",
       "      <td>0.0</td>\n",
       "      <td>0.0</td>\n",
       "      <td>0.0</td>\n",
       "      <td>37.0</td>\n",
       "    </tr>\n",
       "    <tr>\n",
       "      <th>4</th>\n",
       "      <td>4</td>\n",
       "      <td>labor</td>\n",
       "      <td>1</td>\n",
       "      <td>1</td>\n",
       "      <td>active</td>\n",
       "      <td>ARFF</td>\n",
       "      <td>37.0</td>\n",
       "      <td>3.0</td>\n",
       "      <td>20.0</td>\n",
       "      <td>2.0</td>\n",
       "      <td>17.0</td>\n",
       "      <td>57.0</td>\n",
       "      <td>56.0</td>\n",
       "      <td>326.0</td>\n",
       "      <td>8.0</td>\n",
       "      <td>9.0</td>\n",
       "    </tr>\n",
       "    <tr>\n",
       "      <th>5</th>\n",
       "      <td>5</td>\n",
       "      <td>arrhythmia</td>\n",
       "      <td>1</td>\n",
       "      <td>1</td>\n",
       "      <td>active</td>\n",
       "      <td>ARFF</td>\n",
       "      <td>245.0</td>\n",
       "      <td>13.0</td>\n",
       "      <td>2.0</td>\n",
       "      <td>13.0</td>\n",
       "      <td>280.0</td>\n",
       "      <td>452.0</td>\n",
       "      <td>384.0</td>\n",
       "      <td>408.0</td>\n",
       "      <td>206.0</td>\n",
       "      <td>74.0</td>\n",
       "    </tr>\n",
       "    <tr>\n",
       "      <th>6</th>\n",
       "      <td>6</td>\n",
       "      <td>letter</td>\n",
       "      <td>1</td>\n",
       "      <td>1</td>\n",
       "      <td>active</td>\n",
       "      <td>ARFF</td>\n",
       "      <td>813.0</td>\n",
       "      <td>26.0</td>\n",
       "      <td>734.0</td>\n",
       "      <td>26.0</td>\n",
       "      <td>17.0</td>\n",
       "      <td>20000.0</td>\n",
       "      <td>0.0</td>\n",
       "      <td>0.0</td>\n",
       "      <td>16.0</td>\n",
       "      <td>1.0</td>\n",
       "    </tr>\n",
       "    <tr>\n",
       "      <th>...</th>\n",
       "      <td>...</td>\n",
       "      <td>...</td>\n",
       "      <td>...</td>\n",
       "      <td>...</td>\n",
       "      <td>...</td>\n",
       "      <td>...</td>\n",
       "      <td>...</td>\n",
       "      <td>...</td>\n",
       "      <td>...</td>\n",
       "      <td>...</td>\n",
       "      <td>...</td>\n",
       "      <td>...</td>\n",
       "      <td>...</td>\n",
       "      <td>...</td>\n",
       "      <td>...</td>\n",
       "      <td>...</td>\n",
       "    </tr>\n",
       "    <tr>\n",
       "      <th>45939</th>\n",
       "      <td>45939</td>\n",
       "      <td>132</td>\n",
       "      <td>1</td>\n",
       "      <td>41680</td>\n",
       "      <td>active</td>\n",
       "      <td>arff</td>\n",
       "      <td>459.0</td>\n",
       "      <td>NaN</td>\n",
       "      <td>443.0</td>\n",
       "      <td>2.0</td>\n",
       "      <td>4.0</td>\n",
       "      <td>902.0</td>\n",
       "      <td>0.0</td>\n",
       "      <td>0.0</td>\n",
       "      <td>0.0</td>\n",
       "      <td>0.0</td>\n",
       "    </tr>\n",
       "    <tr>\n",
       "      <th>45940</th>\n",
       "      <td>45940</td>\n",
       "      <td>LoginDataForCE</td>\n",
       "      <td>1</td>\n",
       "      <td>41814</td>\n",
       "      <td>active</td>\n",
       "      <td>arff</td>\n",
       "      <td>NaN</td>\n",
       "      <td>NaN</td>\n",
       "      <td>NaN</td>\n",
       "      <td>NaN</td>\n",
       "      <td>8.0</td>\n",
       "      <td>1441.0</td>\n",
       "      <td>0.0</td>\n",
       "      <td>0.0</td>\n",
       "      <td>3.0</td>\n",
       "      <td>0.0</td>\n",
       "    </tr>\n",
       "    <tr>\n",
       "      <th>45941</th>\n",
       "      <td>45941</td>\n",
       "      <td>User-Ravi</td>\n",
       "      <td>1</td>\n",
       "      <td>41814</td>\n",
       "      <td>active</td>\n",
       "      <td>arff</td>\n",
       "      <td>NaN</td>\n",
       "      <td>NaN</td>\n",
       "      <td>NaN</td>\n",
       "      <td>NaN</td>\n",
       "      <td>28.0</td>\n",
       "      <td>1360.0</td>\n",
       "      <td>1360.0</td>\n",
       "      <td>4430.0</td>\n",
       "      <td>5.0</td>\n",
       "      <td>0.0</td>\n",
       "    </tr>\n",
       "    <tr>\n",
       "      <th>45942</th>\n",
       "      <td>45942</td>\n",
       "      <td>User-Ravi</td>\n",
       "      <td>2</td>\n",
       "      <td>41816</td>\n",
       "      <td>active</td>\n",
       "      <td>arff</td>\n",
       "      <td>NaN</td>\n",
       "      <td>NaN</td>\n",
       "      <td>NaN</td>\n",
       "      <td>NaN</td>\n",
       "      <td>28.0</td>\n",
       "      <td>1360.0</td>\n",
       "      <td>1360.0</td>\n",
       "      <td>4430.0</td>\n",
       "      <td>5.0</td>\n",
       "      <td>0.0</td>\n",
       "    </tr>\n",
       "    <tr>\n",
       "      <th>45943</th>\n",
       "      <td>45943</td>\n",
       "      <td>bla</td>\n",
       "      <td>1</td>\n",
       "      <td>41971</td>\n",
       "      <td>active</td>\n",
       "      <td>arff</td>\n",
       "      <td>NaN</td>\n",
       "      <td>NaN</td>\n",
       "      <td>NaN</td>\n",
       "      <td>NaN</td>\n",
       "      <td>10.0</td>\n",
       "      <td>1075.0</td>\n",
       "      <td>0.0</td>\n",
       "      <td>0.0</td>\n",
       "      <td>0.0</td>\n",
       "      <td>10.0</td>\n",
       "    </tr>\n",
       "  </tbody>\n",
       "</table>\n",
       "<p>5455 rows × 16 columns</p>\n",
       "</div>"
      ],
      "text/plain": [
       "         did            name  version uploader  status format  \\\n",
       "2          2          anneal        1        1  active   ARFF   \n",
       "3          3        kr-vs-kp        1        1  active   ARFF   \n",
       "4          4           labor        1        1  active   ARFF   \n",
       "5          5      arrhythmia        1        1  active   ARFF   \n",
       "6          6          letter        1        1  active   ARFF   \n",
       "...      ...             ...      ...      ...     ...    ...   \n",
       "45939  45939             132        1    41680  active   arff   \n",
       "45940  45940  LoginDataForCE        1    41814  active   arff   \n",
       "45941  45941       User-Ravi        1    41814  active   arff   \n",
       "45942  45942       User-Ravi        2    41816  active   arff   \n",
       "45943  45943             bla        1    41971  active   arff   \n",
       "\n",
       "       MajorityClassSize  MaxNominalAttDistinctValues  MinorityClassSize  \\\n",
       "2                  684.0                          7.0                8.0   \n",
       "3                 1669.0                          3.0             1527.0   \n",
       "4                   37.0                          3.0               20.0   \n",
       "5                  245.0                         13.0                2.0   \n",
       "6                  813.0                         26.0              734.0   \n",
       "...                  ...                          ...                ...   \n",
       "45939              459.0                          NaN              443.0   \n",
       "45940                NaN                          NaN                NaN   \n",
       "45941                NaN                          NaN                NaN   \n",
       "45942                NaN                          NaN                NaN   \n",
       "45943                NaN                          NaN                NaN   \n",
       "\n",
       "       NumberOfClasses  NumberOfFeatures  NumberOfInstances  \\\n",
       "2                  5.0              39.0              898.0   \n",
       "3                  2.0              37.0             3196.0   \n",
       "4                  2.0              17.0               57.0   \n",
       "5                 13.0             280.0              452.0   \n",
       "6                 26.0              17.0            20000.0   \n",
       "...                ...               ...                ...   \n",
       "45939              2.0               4.0              902.0   \n",
       "45940              NaN               8.0             1441.0   \n",
       "45941              NaN              28.0             1360.0   \n",
       "45942              NaN              28.0             1360.0   \n",
       "45943              NaN              10.0             1075.0   \n",
       "\n",
       "       NumberOfInstancesWithMissingValues  NumberOfMissingValues  \\\n",
       "2                                   898.0                22175.0   \n",
       "3                                     0.0                    0.0   \n",
       "4                                    56.0                  326.0   \n",
       "5                                   384.0                  408.0   \n",
       "6                                     0.0                    0.0   \n",
       "...                                   ...                    ...   \n",
       "45939                                 0.0                    0.0   \n",
       "45940                                 0.0                    0.0   \n",
       "45941                              1360.0                 4430.0   \n",
       "45942                              1360.0                 4430.0   \n",
       "45943                                 0.0                    0.0   \n",
       "\n",
       "       NumberOfNumericFeatures  NumberOfSymbolicFeatures  \n",
       "2                          6.0                      33.0  \n",
       "3                          0.0                      37.0  \n",
       "4                          8.0                       9.0  \n",
       "5                        206.0                      74.0  \n",
       "6                         16.0                       1.0  \n",
       "...                        ...                       ...  \n",
       "45939                      0.0                       0.0  \n",
       "45940                      3.0                       0.0  \n",
       "45941                      5.0                       0.0  \n",
       "45942                      5.0                       0.0  \n",
       "45943                      0.0                      10.0  \n",
       "\n",
       "[5455 rows x 16 columns]"
      ]
     },
     "execution_count": 3,
     "metadata": {},
     "output_type": "execute_result"
    }
   ],
   "source": [
    "import openml\n",
    "import pandas as pd\n",
    "openml.datasets.list_datasets(output_format=\"dataframe\")"
   ]
  },
  {
   "cell_type": "code",
   "execution_count": 4,
   "metadata": {},
   "outputs": [
    {
     "name": "stderr",
     "output_type": "stream",
     "text": [
      "C:\\Users\\marta\\AppData\\Local\\Temp\\ipykernel_17528\\3570080997.py:1: FutureWarning: Starting from Version 0.15 `download_data`, `download_qualities`, and `download_features_meta_data` will all be ``False`` instead of ``True`` by default to enable lazy loading. To disable this message until version 0.15 explicitly set `download_data`, `download_qualities`, and `download_features_meta_data` to a bool while calling `get_dataset`.\n",
      "  dataset_blood_transfusion = openml.datasets.get_dataset(1464)\n"
     ]
    }
   ],
   "source": [
    "dataset_blood_transfusion = openml.datasets.get_dataset(1464)\n",
    "\n",
    "X, y, _, attrs = dataset_blood_transfusion.get_data(target = dataset_blood_transfusion.default_target_attribute)\n",
    "df = pd.DataFrame(X, columns= attrs)\n",
    "df['Class'] = y\n",
    "#Save as CSV\n",
    "csv_path = 'blood_transfusion_center.csv'\n",
    "df.to_csv(csv_path, index= False)\n"
   ]
  },
  {
   "cell_type": "code",
   "execution_count": 5,
   "metadata": {},
   "outputs": [
    {
     "name": "stderr",
     "output_type": "stream",
     "text": [
      "C:\\Users\\marta\\AppData\\Local\\Temp\\ipykernel_17528\\1143774436.py:1: FutureWarning: Starting from Version 0.15 `download_data`, `download_qualities`, and `download_features_meta_data` will all be ``False`` instead of ``True`` by default to enable lazy loading. To disable this message until version 0.15 explicitly set `download_data`, `download_qualities`, and `download_features_meta_data` to a bool while calling `get_dataset`.\n",
      "  dataset_satalite = openml.datasets.get_dataset(40900)\n"
     ]
    }
   ],
   "source": [
    "dataset_satalite = openml.datasets.get_dataset(40900)\n",
    "\n",
    "X, y, _, attrs = dataset_satalite.get_data(target = dataset_satalite.default_target_attribute)\n",
    "\n",
    "df = pd.DataFrame(X, columns= attrs)\n",
    "df['Class'] = y\n",
    "\n",
    "#Save as CSV\n",
    "csv_path = 'satalite.csv'\n",
    "df.to_csv(csv_path, index= False)"
   ]
  },
  {
   "cell_type": "code",
   "execution_count": 6,
   "metadata": {},
   "outputs": [
    {
     "name": "stderr",
     "output_type": "stream",
     "text": [
      "C:\\Users\\marta\\AppData\\Local\\Temp\\ipykernel_17528\\2118615118.py:1: FutureWarning: Starting from Version 0.15 `download_data`, `download_qualities`, and `download_features_meta_data` will all be ``False`` instead of ``True`` by default to enable lazy loading. To disable this message until version 0.15 explicitly set `download_data`, `download_qualities`, and `download_features_meta_data` to a bool while calling `get_dataset`.\n",
      "  credit_fraud = openml.datasets.get_dataset(42397)\n"
     ]
    }
   ],
   "source": [
    "credit_fraud = openml.datasets.get_dataset(42397)\n",
    "\n",
    "X, y, _, attrs = credit_fraud.get_data(target = credit_fraud.default_target_attribute)\n",
    "df = pd.DataFrame(X, columns= attrs)\n",
    "df['Class'] = y\n",
    "#Save as CSV\n",
    "csv_path = 'credit_fraud.csv'\n",
    "df.to_csv(csv_path, index= False)"
   ]
  },
  {
   "cell_type": "code",
   "execution_count": 7,
   "metadata": {},
   "outputs": [
    {
     "name": "stderr",
     "output_type": "stream",
     "text": [
      "C:\\Users\\marta\\AppData\\Local\\Temp\\ipykernel_17528\\3241022248.py:1: FutureWarning: Starting from Version 0.15 `download_data`, `download_qualities`, and `download_features_meta_data` will all be ``False`` instead of ``True`` by default to enable lazy loading. To disable this message until version 0.15 explicitly set `download_data`, `download_qualities`, and `download_features_meta_data` to a bool while calling `get_dataset`.\n",
      "  heart_diseases_controlo = openml.datasets.get_dataset(49)\n"
     ]
    }
   ],
   "source": [
    "heart_diseases_controlo = openml.datasets.get_dataset(49)\n",
    "\n",
    "X, y, _, attrs = heart_diseases_controlo.get_data(target = heart_diseases_controlo.default_target_attribute)\n",
    "df = pd.DataFrame(X, columns= attrs)\n",
    "df['Class'] = y\n",
    "#Save as CSV\n",
    "csv_path = 'heart_diseases_controlo.csv'\n",
    "df.to_csv(csv_path, index= False)"
   ]
  },
  {
   "cell_type": "code",
   "execution_count": 8,
   "metadata": {},
   "outputs": [
    {
     "name": "stderr",
     "output_type": "stream",
     "text": [
      "C:\\Users\\marta\\AppData\\Local\\Temp\\ipykernel_17528\\9459224.py:1: FutureWarning: Starting from Version 0.15 `download_data`, `download_qualities`, and `download_features_meta_data` will all be ``False`` instead of ``True`` by default to enable lazy loading. To disable this message until version 0.15 explicitly set `download_data`, `download_qualities`, and `download_features_meta_data` to a bool while calling `get_dataset`.\n",
      "  breast_cancer = openml.datasets.get_dataset(15)\n"
     ]
    }
   ],
   "source": [
    "breast_cancer = openml.datasets.get_dataset(15)\n",
    "\n",
    "X, y, _, attrs= breast_cancer.get_data(target = breast_cancer.default_target_attribute)\n",
    "df = pd.DataFrame(X, columns= attrs)\n",
    "df['Class'] = y\n",
    "#Save as CSV\n",
    "csv_path = 'breast_cancer.csv'\n",
    "df.to_csv(csv_path, index= False)"
   ]
  },
  {
   "cell_type": "code",
   "execution_count": 9,
   "metadata": {},
   "outputs": [
    {
     "name": "stderr",
     "output_type": "stream",
     "text": [
      "C:\\Users\\marta\\AppData\\Local\\Temp\\ipykernel_17528\\3404213456.py:1: FutureWarning: Starting from Version 0.15 `download_data`, `download_qualities`, and `download_features_meta_data` will all be ``False`` instead of ``True`` by default to enable lazy loading. To disable this message until version 0.15 explicitly set `download_data`, `download_qualities`, and `download_features_meta_data` to a bool while calling `get_dataset`.\n",
      "  ozone = openml.datasets.get_dataset(1487)\n"
     ]
    }
   ],
   "source": [
    "ozone = openml.datasets.get_dataset(1487)\n",
    "\n",
    "X, y, _, attrs = ozone.get_data(target = ozone.default_target_attribute)\n",
    "df = pd.DataFrame(X, columns= attrs)\n",
    "df['Class'] = y\n",
    "#Save as CSV\n",
    "csv_path = 'ozone.csv'\n",
    "df.to_csv(csv_path, index= False)"
   ]
  },
  {
   "cell_type": "code",
   "execution_count": 10,
   "metadata": {},
   "outputs": [
    {
     "name": "stderr",
     "output_type": "stream",
     "text": [
      "C:\\Users\\marta\\AppData\\Local\\Temp\\ipykernel_17528\\1171433063.py:1: FutureWarning: Starting from Version 0.15 `download_data`, `download_qualities`, and `download_features_meta_data` will all be ``False`` instead of ``True`` by default to enable lazy loading. To disable this message until version 0.15 explicitly set `download_data`, `download_qualities`, and `download_features_meta_data` to a bool while calling `get_dataset`.\n",
      "  bank_marketing= openml.datasets.get_dataset(1558)\n"
     ]
    }
   ],
   "source": [
    "bank_marketing= openml.datasets.get_dataset(1558)\n",
    "\n",
    "X, y, _, attrs = bank_marketing.get_data(target = bank_marketing.default_target_attribute)\n",
    "df = pd.DataFrame(X, columns= attrs)\n",
    "df['Class'] = y\n",
    "#Save as CSV\n",
    "csv_path = 'bank_marketing.csv'\n",
    "df.to_csv(csv_path, index= False)"
   ]
  },
  {
   "cell_type": "code",
   "execution_count": 11,
   "metadata": {},
   "outputs": [
    {
     "name": "stderr",
     "output_type": "stream",
     "text": [
      "C:\\Users\\marta\\AppData\\Local\\Temp\\ipykernel_17528\\3953265309.py:1: FutureWarning: Starting from Version 0.15 `download_data`, `download_qualities`, and `download_features_meta_data` will all be ``False`` instead of ``True`` by default to enable lazy loading. To disable this message until version 0.15 explicitly set `download_data`, `download_qualities`, and `download_features_meta_data` to a bool while calling `get_dataset`.\n",
      "  musk = openml.datasets.get_dataset(1116)\n"
     ]
    }
   ],
   "source": [
    "musk = openml.datasets.get_dataset(1116)\n",
    "\n",
    "X, y, _, attrs = musk.get_data(target = musk.default_target_attribute)\n",
    "df = pd.DataFrame(X, columns= attrs)\n",
    "df['Class'] = y\n",
    "#Save as CSV\n",
    "csv_path = 'musk.csv'\n",
    "df.to_csv(csv_path, index= False)"
   ]
  },
  {
   "cell_type": "code",
   "execution_count": 12,
   "metadata": {},
   "outputs": [
    {
     "name": "stderr",
     "output_type": "stream",
     "text": [
      "C:\\Users\\marta\\AppData\\Local\\Temp\\ipykernel_17528\\3767340554.py:1: FutureWarning: Starting from Version 0.15 `download_data`, `download_qualities`, and `download_features_meta_data` will all be ``False`` instead of ``True`` by default to enable lazy loading. To disable this message until version 0.15 explicitly set `download_data`, `download_qualities`, and `download_features_meta_data` to a bool while calling `get_dataset`.\n",
      "  amazon_employee_access = openml.datasets.get_dataset(4135)\n"
     ]
    }
   ],
   "source": [
    "amazon_employee_access = openml.datasets.get_dataset(4135)\n",
    "\n",
    "X, y,_, attrs = amazon_employee_access.get_data(target=amazon_employee_access.default_target_attribute)\n",
    "df = pd.DataFrame(X, columns= attrs)\n",
    "df['Class'] = y\n",
    "#Save as CSV\n",
    "csv_path = 'amazon_employee_access.csv'\n",
    "df.to_csv(csv_path, index= False)"
   ]
  },
  {
   "cell_type": "code",
   "execution_count": 13,
   "metadata": {},
   "outputs": [
    {
     "name": "stderr",
     "output_type": "stream",
     "text": [
      "C:\\Users\\marta\\AppData\\Local\\Temp\\ipykernel_17528\\3913692996.py:1: FutureWarning: Starting from Version 0.15 `download_data`, `download_qualities`, and `download_features_meta_data` will all be ``False`` instead of ``True`` by default to enable lazy loading. To disable this message until version 0.15 explicitly set `download_data`, `download_qualities`, and `download_features_meta_data` to a bool while calling `get_dataset`.\n",
      "  ova_lung = openml.datasets.get_dataset(1130)\n"
     ]
    }
   ],
   "source": [
    "ova_lung = openml.datasets.get_dataset(1130)\n",
    "\n",
    "X, y, _, attrs = ova_lung.get_data(target = ova_lung.default_target_attribute)\n",
    "df = pd.DataFrame(X, columns= attrs)\n",
    "df['Class'] = y\n",
    "#Save as CSV\n",
    "csv_path = 'ova_lung.csv'\n",
    "df.to_csv(csv_path, index= False)"
   ]
  },
  {
   "cell_type": "code",
   "execution_count": 1,
   "metadata": {},
   "outputs": [
    {
     "ename": "NameError",
     "evalue": "name 'openml' is not defined",
     "output_type": "error",
     "traceback": [
      "\u001b[0;31m---------------------------------------------------------------------------\u001b[0m",
      "\u001b[0;31mNameError\u001b[0m                                 Traceback (most recent call last)",
      "Cell \u001b[0;32mIn[1], line 1\u001b[0m\n\u001b[0;32m----> 1\u001b[0m teste \u001b[38;5;241m=\u001b[39m \u001b[43mopenml\u001b[49m\u001b[38;5;241m.\u001b[39mdatasets\u001b[38;5;241m.\u001b[39mget_dataset(\u001b[38;5;241m1068\u001b[39m)\n\u001b[1;32m      3\u001b[0m X, y, _, attrs \u001b[38;5;241m=\u001b[39m teste\u001b[38;5;241m.\u001b[39mget_data(target \u001b[38;5;241m=\u001b[39m teste\u001b[38;5;241m.\u001b[39mdefault_target_attribute)\n\u001b[1;32m      4\u001b[0m df \u001b[38;5;241m=\u001b[39m pd\u001b[38;5;241m.\u001b[39mDataFrame(X, columns\u001b[38;5;241m=\u001b[39m attrs)\n",
      "\u001b[0;31mNameError\u001b[0m: name 'openml' is not defined"
     ]
    }
   ],
   "source": [
    "teste = openml.datasets.get_dataset(1068)\n",
    "\n",
    "X, y, _, attrs = teste.get_data(target = teste.default_target_attribute)\n",
    "df = pd.DataFrame(X, columns= attrs)\n",
    "df['Class'] = y\n",
    "#Save as CSV\n",
    "csv_path = 'teste.csv'\n",
    "df.to_csv(csv_path, index= False)"
   ]
  }
 ],
 "metadata": {
  "kernelspec": {
   "display_name": "Python 3",
   "language": "python",
   "name": "python3"
  },
  "language_info": {
   "codemirror_mode": {
    "name": "ipython",
    "version": 3
   },
   "file_extension": ".py",
   "mimetype": "text/x-python",
   "name": "python",
   "nbconvert_exporter": "python",
   "pygments_lexer": "ipython3",
   "version": "3.12.2"
  }
 },
 "nbformat": 4,
 "nbformat_minor": 2
}
